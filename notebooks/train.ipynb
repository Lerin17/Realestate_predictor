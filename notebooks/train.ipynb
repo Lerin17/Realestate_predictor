{
 "cells": [
  {
   "cell_type": "code",
   "execution_count": 4,
   "id": "da91936b",
   "metadata": {},
   "outputs": [
    {
     "name": "stdout",
     "output_type": "stream",
     "text": [
      "\n",
      "[2, 4, 6, 8]\n"
     ]
    }
   ],
   "source": [
    "print(\"\")\n",
    "red = [1, 2, 3, 4]\n",
    "crew = []\n",
    "\n",
    "for num in red:\n",
    "    newnum = num * 2\n",
    "    crew.append(newnum)\n",
    "\n",
    "print (crew)\n"
   ]
  },
  {
   "cell_type": "code",
   "execution_count": 1,
   "id": "b736c5e7",
   "metadata": {},
   "outputs": [
    {
     "name": "stdout",
     "output_type": "stream",
     "text": [
      "(2930, 82)\n",
      "shaba\n",
      "Pool QC           2917\n",
      "Misc Feature      2824\n",
      "Alley             2732\n",
      "Fence             2358\n",
      "Mas Vnr Type      1775\n",
      "Fireplace Qu      1422\n",
      "Lot Frontage       490\n",
      "Garage Qual        159\n",
      "Garage Yr Blt      159\n",
      "Garage Cond        159\n",
      "Garage Finish      159\n",
      "Garage Type        157\n",
      "Bsmt Exposure       83\n",
      "BsmtFin Type 2      81\n",
      "Bsmt Qual           80\n",
      "Bsmt Cond           80\n",
      "BsmtFin Type 1      80\n",
      "Mas Vnr Area        23\n",
      "Bsmt Full Bath       2\n",
      "Bsmt Half Bath       2\n",
      "dtype: int64\n",
      "Pool QC           2917\n",
      "Misc Feature      2824\n",
      "Alley             2732\n",
      "Fence             2358\n",
      "Mas Vnr Type      1775\n",
      "Fireplace Qu      1422\n",
      "Garage Qual        159\n",
      "Garage Cond        159\n",
      "Garage Yr Blt      159\n",
      "Garage Finish      159\n",
      "Garage Type        157\n",
      "Bsmt Exposure       83\n",
      "BsmtFin Type 2      81\n",
      "BsmtFin Type 1      80\n",
      "Bsmt Qual           80\n",
      "Bsmt Cond           80\n",
      "Mas Vnr Area        23\n",
      "Bsmt Full Bath       2\n",
      "Bsmt Half Bath       2\n",
      "Electrical           1\n",
      "dtype: int64\n"
     ]
    }
   ],
   "source": [
    "import pandas as pd\n",
    "import numpy as np\n",
    "from sklearn.model_selection import train_test_split\n",
    "from sklearn.linear_model import LinearRegression\n",
    "from sklearn.metrics import mean_squared_error, r2_score\n",
    "\n",
    "\n",
    "df = pd.read_csv('../data/raw/AmesHousing.csv')\n",
    "\n",
    "\n",
    "print(df.shape)\n",
    "# print(df.head())\n",
    "# print(df.info())\n",
    "\n",
    "print('shaba')\n",
    "print(df.isnull().sum().sort_values(ascending=False).head(20))\n",
    "\n",
    "df[\"Lot Frontage\"] = df[\"Lot Frontage\"].fillna(df[\"Lot Frontage\"].mean())\n",
    "\n",
    "print(df.isnull().sum().sort_values(ascending=False).head(20))\n"
   ]
  },
  {
   "cell_type": "code",
   "execution_count": 3,
   "id": "a9e866f1",
   "metadata": {},
   "outputs": [
    {
     "name": "stdout",
     "output_type": "stream",
     "text": [
      "False\n",
      "4.453\n",
      "(5, 5)\n"
     ]
    }
   ],
   "source": [
    "print((not(2!=3)))\n",
    "print(round(4.453212, 3))\n",
    "print (divmod(40, 7))"
   ]
  },
  {
   "cell_type": "code",
   "execution_count": null,
   "id": "1d5c3a46",
   "metadata": {},
   "outputs": [],
   "source": [
    "red = input(\"Enter a number: \")"
   ]
  },
  {
   "cell_type": "code",
   "execution_count": null,
   "id": "acdb5972",
   "metadata": {},
   "outputs": [],
   "source": []
  }
 ],
 "metadata": {
  "kernelspec": {
   "display_name": "myenv",
   "language": "python",
   "name": "python3"
  },
  "language_info": {
   "codemirror_mode": {
    "name": "ipython",
    "version": 3
   },
   "file_extension": ".py",
   "mimetype": "text/x-python",
   "name": "python",
   "nbconvert_exporter": "python",
   "pygments_lexer": "ipython3",
   "version": "3.13.3"
  }
 },
 "nbformat": 4,
 "nbformat_minor": 5
}
