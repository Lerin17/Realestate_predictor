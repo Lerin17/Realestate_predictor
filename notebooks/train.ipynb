{
 "cells": [
  {
   "cell_type": "code",
   "execution_count": 2,
   "id": "8facdc5c",
   "metadata": {},
   "outputs": [
    {
     "name": "stdout",
     "output_type": "stream",
     "text": [
      "swaggo\n"
     ]
    }
   ],
   "source": [
    "print(\"swaggo\")"
   ]
  },
  {
   "cell_type": "code",
   "execution_count": 4,
   "id": "da91936b",
   "metadata": {},
   "outputs": [
    {
     "name": "stdout",
     "output_type": "stream",
     "text": [
      "\n",
      "[2, 4, 6, 8]\n"
     ]
    }
   ],
   "source": [
    "print(\"\")\n",
    "red = [1, 2, 3, 4]\n",
    "crew = []\n",
    "\n",
    "for num in red:\n",
    "    newnum = num * 2\n",
    "    crew.append(newnum)\n",
    "\n",
    "print (crew)\n"
   ]
  },
  {
   "cell_type": "code",
   "execution_count": 3,
   "id": "a9e866f1",
   "metadata": {},
   "outputs": [
    {
     "name": "stdout",
     "output_type": "stream",
     "text": [
      "False\n",
      "4.453\n",
      "(5, 5)\n"
     ]
    }
   ],
   "source": [
    "print((not(2!=3)))\n",
    "print(round(4.453212, 3))\n",
    "print (divmod(40, 7))"
   ]
  },
  {
   "cell_type": "code",
   "execution_count": null,
   "id": "0f82f5d4",
   "metadata": {},
   "outputs": [
    {
     "name": "stdout",
     "output_type": "stream",
     "text": [
      "<class 'tuple'> 4\n",
      "False\n",
      "4\n"
     ]
    }
   ],
   "source": [
    "cred = (4, 5)\n",
    "print(type(cred), cred[0])\n",
    "print (isinstance(1, (float, str)))\n",
    "\n",
    "red = 4.6\n",
    "print (int(red))\n",
    "x = input(\"Enter a number: \")"
   ]
  },
  {
   "cell_type": "code",
   "execution_count": null,
   "id": "8132ede3",
   "metadata": {},
   "outputs": [],
   "source": []
  }
 ],
 "metadata": {
  "kernelspec": {
   "display_name": "myenv",
   "language": "python",
   "name": "python3"
  },
  "language_info": {
   "codemirror_mode": {
    "name": "ipython",
    "version": 3
   },
   "file_extension": ".py",
   "mimetype": "text/x-python",
   "name": "python",
   "nbconvert_exporter": "python",
   "pygments_lexer": "ipython3",
   "version": "3.13.3"
  }
 },
 "nbformat": 4,
 "nbformat_minor": 5
}
