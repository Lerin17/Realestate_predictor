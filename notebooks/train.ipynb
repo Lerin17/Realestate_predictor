{
 "cells": [
  {
   "cell_type": "code",
   "execution_count": 4,
   "id": "da91936b",
   "metadata": {},
   "outputs": [
    {
     "name": "stdout",
     "output_type": "stream",
     "text": [
      "\n",
      "[2, 4, 6, 8]\n"
     ]
    }
   ],
   "source": [
    "print(\"\")\n",
    "red = [1, 2, 3, 4]\n",
    "crew = []\n",
    "\n",
    "for num in red:\n",
    "    newnum = num * 2\n",
    "    crew.append(newnum)\n",
    "\n",
    "print (crew)\n"
   ]
  },
  {
   "cell_type": "code",
   "execution_count": null,
   "id": "b736c5e7",
   "metadata": {},
   "outputs": [
    {
     "name": "stdout",
     "output_type": "stream",
     "text": [
      "(2930, 82)\n",
      "shaba\n",
      "<class 'pandas.core.frame.DataFrame'> come away\n",
      "Mas Vnr Area     23\n",
      "Total Bsmt SF     1\n",
      "Electrical        1\n",
      "PID               0\n",
      "Lot Frontage      0\n",
      "Lot Area          0\n",
      "MS SubClass       0\n",
      "MS Zoning         0\n",
      "Lot Shape         0\n",
      "Land Contour      0\n",
      "Utilities         0\n",
      "Lot Config        0\n",
      "Land Slope        0\n",
      "Neighborhood      0\n",
      "Street            0\n",
      "Alley             0\n",
      "Order             0\n",
      "Bldg Type         0\n",
      "Condition 2       0\n",
      "Condition 1       0\n",
      "dtype: int64\n",
      "            Order           PID  MS SubClass  Lot Frontage       Lot Area  \\\n",
      "count  2930.00000  2.930000e+03  2930.000000   2930.000000    2930.000000   \n",
      "mean   1465.50000  7.144645e+08    57.387372     69.224590   10147.921843   \n",
      "std     845.96247  1.887308e+08    42.638025     21.321523    7880.017759   \n",
      "min       1.00000  5.263011e+08    20.000000     21.000000    1300.000000   \n",
      "25%     733.25000  5.284770e+08    20.000000     60.000000    7440.250000   \n",
      "50%    1465.50000  5.354536e+08    50.000000     69.224590    9436.500000   \n",
      "75%    2197.75000  9.071811e+08    70.000000     78.000000   11555.250000   \n",
      "max    2930.00000  1.007100e+09   190.000000    313.000000  215245.000000   \n",
      "\n",
      "       Overall Qual  Overall Cond   Year Built  Year Remod/Add  Mas Vnr Area  \\\n",
      "count   2930.000000   2930.000000  2930.000000     2930.000000   2907.000000   \n",
      "mean       6.094881      5.563140  1971.356314     1984.266553    101.896801   \n",
      "std        1.411026      1.111537    30.245361       20.860286    179.112611   \n",
      "min        1.000000      1.000000  1872.000000     1950.000000      0.000000   \n",
      "25%        5.000000      5.000000  1954.000000     1965.000000      0.000000   \n",
      "50%        6.000000      5.000000  1973.000000     1993.000000      0.000000   \n",
      "75%        7.000000      6.000000  2001.000000     2004.000000    164.000000   \n",
      "max       10.000000      9.000000  2010.000000     2010.000000   1600.000000   \n",
      "\n",
      "       ...   Fireplaces  Wood Deck SF  Open Porch SF  Enclosed Porch  \\\n",
      "count  ...  2930.000000   2930.000000    2930.000000     2930.000000   \n",
      "mean   ...     0.599317     93.751877      47.533447       23.011604   \n",
      "std    ...     0.647921    126.361562      67.483400       64.139059   \n",
      "min    ...     0.000000      0.000000       0.000000        0.000000   \n",
      "25%    ...     0.000000      0.000000       0.000000        0.000000   \n",
      "50%    ...     1.000000      0.000000      27.000000        0.000000   \n",
      "75%    ...     1.000000    168.000000      70.000000        0.000000   \n",
      "max    ...     4.000000   1424.000000     742.000000     1012.000000   \n",
      "\n",
      "        3Ssn Porch  Screen Porch      Misc Val      Mo Sold      Yr Sold  \\\n",
      "count  2930.000000   2930.000000   2930.000000  2930.000000  2930.000000   \n",
      "mean      2.592491     16.002048     50.635154     6.216041  2007.790444   \n",
      "std      25.141331     56.087370    566.344288     2.714492     1.316613   \n",
      "min       0.000000      0.000000      0.000000     1.000000  2006.000000   \n",
      "25%       0.000000      0.000000      0.000000     4.000000  2007.000000   \n",
      "50%       0.000000      0.000000      0.000000     6.000000  2008.000000   \n",
      "75%       0.000000      0.000000      0.000000     8.000000  2009.000000   \n",
      "max     508.000000    576.000000  17000.000000    12.000000  2010.000000   \n",
      "\n",
      "           SalePrice  \n",
      "count    2930.000000  \n",
      "mean   180796.060068  \n",
      "std     79886.692357  \n",
      "min     12789.000000  \n",
      "25%    129500.000000  \n",
      "50%    160000.000000  \n",
      "75%    213500.000000  \n",
      "max    755000.000000  \n",
      "\n",
      "[8 rows x 30 columns]\n"
     ]
    }
   ],
   "source": [
    "import pandas as pd\n",
    "import numpy as np\n",
    "from sklearn.model_selection import train_test_split\n",
    "from sklearn.linear_model import LinearRegression\n",
    "from sklearn.metrics import mean_squared_error, r2_score\n",
    "\n",
    "\n",
    "df = pd.read_csv('../data/raw/AmesHousing.csv')\n",
    "\n",
    "\n",
    "print(df.shape)\n",
    "# print(df.head())\n",
    "# print(df.info())\n",
    "\n",
    "print('shaba')\n",
    "# print(df.isnull().sum().sort_values(ascending=False).head(20))\n",
    "\n",
    "#Removing items not needed for naija\n",
    "df[\"Lot Frontage\"] = df[\"Lot Frontage\"].fillna(df[\"Lot Frontage\"].mean())\n",
    "df[\"Pool QC\"] = df[\"Pool QC\"].fillna(\"None\")\n",
    "df[\"Misc Feature\"] = df[\"Misc Feature\"].fillna(\"None\")\n",
    "df[\"Alley\"] = df[\"Alley\"].fillna(\"None\")\n",
    "df[\"Fireplace Qu\"] = df[\"Fireplace Qu\"].fillna(\"None\")\n",
    "\n",
    "print (type(df), 'come away')\n",
    "\n",
    "garage_cols = [col for col in df.columns if col.startswith('Garage')]\n",
    "df[garage_cols] = df[garage_cols].fillna('None')\n",
    "\n",
    "basement_cols = [col for col in df.columns if col.startswith('Bsmt')]\n",
    "df[basement_cols] = df[basement_cols].fillna('None')\n",
    "\n",
    "df[\"Fence\"] = df[\"Fence\"].fillna(\"None\")\n",
    "df[\"Mas Vnr Type\"] = df[\"Mas Vnr Type\"].fillna(\"None\")\n",
    "\n",
    "df.drop(columns=\"Pool Area\", inplace=True)\n",
    "\n",
    "X = df.drop(columns=[\"SalePrice\"])\n",
    "y = df[\"SalePrice\"]\n",
    "\n",
    "X_train, X_test, y_train, y_test = train_test_split(X, y, test_size=0.2, random_state=42)\n",
    "\n",
    "model = LinearRegression()\n",
    "model.fit(X_train, y_train)\n",
    "\n",
    "print(\"Weights (w):\", model.coef_)\n",
    "print(\"Intercept (w0):\", model.intercept_)\n",
    "\n",
    "# y_pred = model.predict(X_test)\n",
    "\n",
    "print(df.isnull().sum().sort_values(ascending=False).head(20))\n",
    "\n",
    "print(df.describe())\n"
   ]
  },
  {
   "cell_type": "code",
   "execution_count": 3,
   "id": "a9e866f1",
   "metadata": {},
   "outputs": [
    {
     "name": "stdout",
     "output_type": "stream",
     "text": [
      "False\n",
      "4.453\n",
      "(5, 5)\n"
     ]
    }
   ],
   "source": [
    "print((not(2!=3)))\n",
    "print(round(4.453212, 3))\n",
    "print (divmod(40, 7))"
   ]
  },
  {
   "cell_type": "code",
   "execution_count": null,
   "id": "1d5c3a46",
   "metadata": {},
   "outputs": [],
   "source": [
    "red = input(\"Enter a number: \")"
   ]
  },
  {
   "cell_type": "code",
   "execution_count": null,
   "id": "acdb5972",
   "metadata": {},
   "outputs": [],
   "source": []
  }
 ],
 "metadata": {
  "kernelspec": {
   "display_name": "myenv",
   "language": "python",
   "name": "python3"
  },
  "language_info": {
   "codemirror_mode": {
    "name": "ipython",
    "version": 3
   },
   "file_extension": ".py",
   "mimetype": "text/x-python",
   "name": "python",
   "nbconvert_exporter": "python",
   "pygments_lexer": "ipython3",
   "version": "3.13.3"
  }
 },
 "nbformat": 4,
 "nbformat_minor": 5
}
