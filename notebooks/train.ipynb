{
 "cells": [
  {
   "cell_type": "code",
   "execution_count": 4,
   "id": "da91936b",
   "metadata": {},
   "outputs": [
    {
     "name": "stdout",
     "output_type": "stream",
     "text": [
      "\n",
      "[2, 4, 6, 8]\n"
     ]
    }
   ],
   "source": [
    "print(\"\")\n",
    "red = [1, 2, 3, 4]\n",
    "crew = []\n",
    "\n",
    "for num in red:\n",
    "    newnum = num * 2\n",
    "    crew.append(newnum)\n",
    "\n",
    "print (crew)\n"
   ]
  },
  {
   "cell_type": "code",
   "execution_count": null,
   "id": "b736c5e7",
   "metadata": {},
   "outputs": [
    {
     "ename": "SyntaxError",
     "evalue": "invalid syntax (1612306644.py, line 87)",
     "output_type": "error",
     "traceback": [
      "  \u001b[36mCell\u001b[39m\u001b[36m \u001b[39m\u001b[32mIn[17]\u001b[39m\u001b[32m, line 87\u001b[39m\n\u001b[31m    \u001b[39m\u001b[31mfor col in range len(X.columns):\u001b[39m\n                     ^\n\u001b[31mSyntaxError\u001b[39m\u001b[31m:\u001b[39m invalid syntax\n"
     ]
    }
   ],
   "source": [
    "import pandas as pd\n",
    "import numpy as np\n",
    "from sklearn.model_selection import train_test_split\n",
    "from sklearn.linear_model import LinearRegression\n",
    "from sklearn.metrics import mean_squared_error, r2_score\n",
    "from sklearn.preprocessing import LabelEncoder\n",
    "\n",
    "df = pd.read_csv('../data/raw/AmesHousing.csv')\n",
    "\n",
    "\n",
    "print(df.shape)\n",
    "# print(df.head())\n",
    "# print(df.info())\n",
    "\n",
    "print('shaba')\n",
    "# print(df.isnull().sum().sort_values(ascending=False).head(20))\n",
    "\n",
    "#Removing items not needed for naija\n",
    "df[\"Lot Frontage\"] = df[\"Lot Frontage\"].fillna(df[\"Lot Frontage\"].mean())\n",
    "df[\"Pool QC\"] = df[\"Pool QC\"].fillna(\"None\")\n",
    "df[\"Misc Feature\"] = df[\"Misc Feature\"].fillna(\"None\")\n",
    "df[\"Alley\"] = df[\"Alley\"].fillna(\"None\")\n",
    "df[\"Fireplace Qu\"] = df[\"Fireplace Qu\"].fillna(\"None\")\n",
    "\n",
    "# print (type(df), 'come away')\n",
    "\n",
    "garage_cols = [col for col in df.columns if col.startswith('Garage') and col != 'Garage Area']\n",
    "df.drop(columns=garage_cols, inplace=True)\n",
    "\n",
    "\n",
    "basement_cols = [col for col in df.columns if col.startswith('Bsmt')]\n",
    "df.drop(columns=basement_cols, inplace=True)\n",
    "\n",
    "condition_cols = [col for col in df.columns if col.startswith('Condition')]\n",
    "df.drop(columns=condition_cols, inplace=True)\n",
    "\n",
    "# df[\"Fence\"] = df[\"Fence\"].fillna(\"None\")\n",
    "# df[\"Mas Vnr Type\"] = df[\"Mas Vnr Type\"].fillna(\"None\")\n",
    "\n",
    "df.drop(columns=\"Pool Area\", inplace=True)\n",
    "df.drop(columns='Street', inplace=True)\n",
    "\n",
    "# Utilities is relevant\n",
    "df.drop(columns='Utilities', inplace=True)\n",
    "df.drop(columns=[\n",
    "   'Heating QC', 'Heating', 'Electrical', 'Central Air',\n",
    "    'Exter Cond', 'Exter Qual', 'Land Contour', 'Lot Shape',\n",
    "    'Misc Val', 'Misc Feature', 'Fence', 'Pool QC', 'Paved Drive', 'Mas Vnr Type', 'Alley' , 'Fireplace Qu', 'Lot Config', 'Neighborhood' , 'Functional', 'Sale Type'\n",
    "], inplace=True)\n",
    "\n",
    "\n",
    "le = LabelEncoder()\n",
    "for col in ['MS Zoning', 'Exterior 1st', 'Exterior 2nd', 'Foundation', 'Roof Style', 'Roof Matl', 'Sale Condition', 'Land Slope', 'Bldg Type', 'House Style', 'Kitchen Qual']:\n",
    " df[col] = le.fit_transform(df[col])\n",
    "\n",
    "# df.drop(columns='Sale Condition', inplace=True)\n",
    "# df.drop(columns=\"Heating QC\", inplace=True)\n",
    "# df.drop(columns=\"Electrical\", inplace=True) \n",
    "# df.drop(columns=\"Central Air\", inplace=True) \n",
    "# df.drop(columns=\"Exter Cond\", inplace=True) \n",
    "# df.drop(columns=\"Exter Qual\", inplace=True) \n",
    "\n",
    "X = df.drop(columns=[\"SalePrice\"])\n",
    "# X = X.dropna(axis=1)\n",
    "y = df[\"SalePrice\"]\n",
    "\n",
    "columns = X.columns\n",
    "\n",
    "print(X.iloc[:, 3], \"lexe\")\n",
    "\n",
    "# for col in columns:\n",
    "#    # if X[col].dtype == object:\n",
    "#       if X.select_dtypes.unique() == 'NaN':\n",
    "#          print(f\"'{col}' contains NaN values\")\n",
    "#       else: print(f\"'{col}' does not contain NaN values\")\n",
    "\n",
    "\n",
    "# Refining the code to check for NaN values in object columns\n",
    "# for col in X.select_dtypes(include=['object']).columns:   \n",
    "# 0\n",
    "# for col in X.select_dtypes(include=['object']).columns:\n",
    "#    if X[col].unique() == 'NaN':\n",
    "#        print(f\"'{X[col]}' contains NaN values\")\n",
    "\n",
    "\n",
    "\n",
    "for col in range (len(X.columns)):\n",
    "    # if col.dtype == 'object':\n",
    "        red = X.iloc[:, col].tolist() \n",
    "        \n",
    "        if red.unique().include('NaN'):\n",
    "            print(red, \"contains NaN\")\n",
    "\n",
    "\n",
    "            # unique_vals = X[col].unique()\n",
    "              \n",
    "            # if 'WD ' in unique_vals:\n",
    "            #     print(f\"'{col}' contains the string 'None'\")\n",
    "\n",
    "            # for col in X.columns:\n",
    "            #    if X[col].dtype == NaN:\n",
    "            #        print(f\"'{col}' contains NaN values\")\n",
    "\n",
    "\n",
    "\n",
    "\n",
    "#refinining ends\n",
    "\n",
    "# X_train, X_test, y_train, y_test = train_test_split(X, y, test_size=0.2, random_state=42)\n",
    "\n",
    "# model = LinearRegression()\n",
    "# model.fit(X_train, y_train)\n",
    "\n",
    "# for feature, weight in zip(X.columns, model.coef_):\n",
    "#     print(f\"Feature: {feature}: {weight}\")\n",
    "\n",
    "\n",
    "\n",
    "# print(\"Weights (w):\", model.coef_)\n",
    "# print(\"Intercept (w0):\", model.intercept_)\n",
    "\n",
    "# y_pred = model.predict(X_test)\n",
    "\n",
    "#checking values\n",
    "\n",
    "# print(df.isnull().sum().sort_values(ascending=False).head(20))\n",
    "\n",
    "# print(df.describe())\n"
   ]
  },
  {
   "cell_type": "code",
   "execution_count": 3,
   "id": "a9e866f1",
   "metadata": {},
   "outputs": [
    {
     "name": "stdout",
     "output_type": "stream",
     "text": [
      "False\n",
      "4.453\n",
      "(5, 5)\n"
     ]
    }
   ],
   "source": [
    "print((not(2!=3)))\n",
    "print(round(4.453212, 3))\n",
    "print (divmod(40, 7))"
   ]
  },
  {
   "cell_type": "code",
   "execution_count": null,
   "id": "1d5c3a46",
   "metadata": {},
   "outputs": [],
   "source": [
    "red = input(\"Enter a number: \")"
   ]
  },
  {
   "cell_type": "code",
   "execution_count": null,
   "id": "acdb5972",
   "metadata": {},
   "outputs": [],
   "source": []
  }
 ],
 "metadata": {
  "kernelspec": {
   "display_name": "myenv",
   "language": "python",
   "name": "python3"
  },
  "language_info": {
   "codemirror_mode": {
    "name": "ipython",
    "version": 3
   },
   "file_extension": ".py",
   "mimetype": "text/x-python",
   "name": "python",
   "nbconvert_exporter": "python",
   "pygments_lexer": "ipython3",
   "version": "3.13.3"
  }
 },
 "nbformat": 4,
 "nbformat_minor": 5
}
